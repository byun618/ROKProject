{
 "cells": [
  {
   "cell_type": "code",
   "execution_count": 151,
   "metadata": {},
   "outputs": [],
   "source": [
    "import cv2\n",
    "import matplotlib.pyplot as plt\n",
    "import pytesseract\n",
    "import re\n",
    "import pandas as pd\n",
    "from PIL import Image\n",
    "\n",
    "plt.style.use('dark_background')"
   ]
  },
  {
   "cell_type": "code",
   "execution_count": 195,
   "metadata": {},
   "outputs": [],
   "source": [
    "def scout_power(server):\n",
    "    power = list()\n",
    "\n",
    "    for i in range(50):\n",
    "        initial = Image.open('./data/' + server + '/original/' + str(i+1) + '.png')\n",
    "        width = initial.size[0]\n",
    "        height = initial.size[1]\n",
    "\n",
    "        croped = initial.crop((width*0.72, height*0.27, width*0.85, height*0.92))\n",
    "        croped.save('./data/' + server + '/power/' + str(i+1) + '.png')\n",
    "\n",
    "        img_ori = cv2.imread('data/' + server + '/power/' + str(i+1) + '.png')\n",
    "\n",
    "        gray = cv2.cvtColor(img_ori, cv2.COLOR_BGR2GRAY)\n",
    "        structuringElement = cv2.getStructuringElement(cv2.MORPH_RECT, (3, 3))\n",
    "\n",
    "        imgTopHat = cv2.morphologyEx(gray, cv2.MORPH_TOPHAT, structuringElement)\n",
    "        imgBlackHat = cv2.morphologyEx(gray, cv2.MORPH_BLACKHAT, structuringElement)\n",
    "\n",
    "        imgGrayscalePlusTopHat = cv2.add(gray, imgTopHat)\n",
    "        gray = cv2.subtract(imgGrayscalePlusTopHat, imgBlackHat)\n",
    "\n",
    "        img_blurred = cv2.GaussianBlur(gray, ksize=(5, 5), sigmaX=0)\n",
    "\n",
    "        ret, img_thresh = cv2.threshold(\n",
    "            img_blurred, \n",
    "            180,\n",
    "            255,\n",
    "            cv2.THRESH_BINARY_INV\n",
    "        )\n",
    "\n",
    "    #     plt.figure(figsize=(12, 10))\n",
    "    #     plt.imshow(img_thresh, cmap='gray')\n",
    "\n",
    "        chars = pytesseract.image_to_string(img_thresh)\n",
    "\n",
    "        temp_power = chars.split('\\n')\n",
    "        temp_power = list(filter(None, temp_power))\n",
    "\n",
    "        for tmp in temp_power:\n",
    "            list_of_numbers = re.findall(r'\\d+', tmp)\n",
    "            result_number = ''.join(list_of_numbers)\n",
    "            power.append(int(result_number))\n",
    "            \n",
    "    df_power = pd.DataFrame({server + ' POWER':power})\n",
    "    pd.options.display.float_format = '{:.5f}'.format\n",
    "    df_describe = df_power.describe()\n",
    "    \n",
    "    result = pd.ExcelWriter('data/' + server + '/result.xlsx', engine='xlsxwriter')\n",
    "    sh_name1 = server + ' power'\n",
    "    sh_name2 = server + ' describe'\n",
    "    df_power.to_excel(result, sheet_name=sh_name1)\n",
    "    df_describe.to_excel(result, sheet_name=sh_name2)\n",
    "\n",
    "    result.save()"
   ]
  },
  {
   "cell_type": "code",
   "execution_count": 196,
   "metadata": {},
   "outputs": [],
   "source": [
    "scout_power('1719')"
   ]
  },
  {
   "cell_type": "code",
   "execution_count": null,
   "metadata": {},
   "outputs": [],
   "source": []
  }
 ],
 "metadata": {
  "kernelspec": {
   "display_name": "Python 3",
   "language": "python",
   "name": "python3"
  },
  "language_info": {
   "codemirror_mode": {
    "name": "ipython",
    "version": 3
   },
   "file_extension": ".py",
   "mimetype": "text/x-python",
   "name": "python",
   "nbconvert_exporter": "python",
   "pygments_lexer": "ipython3",
   "version": "3.6.5"
  }
 },
 "nbformat": 4,
 "nbformat_minor": 2
}
