{
 "cells": [
  {
   "cell_type": "code",
   "execution_count": 72,
   "metadata": {},
   "outputs": [
    {
     "data": {
      "text/plain": [
       "<Figure size 2880x1440 with 0 Axes>"
      ]
     },
     "metadata": {},
     "output_type": "display_data"
    }
   ],
   "source": [
    "import cv2\n",
    "import matplotlib.pyplot as plt\n",
    "import pytesseract\n",
    "import re\n",
    "import pandas as pd\n",
    "from PIL import Image\n",
    "import io\n",
    "import os\n",
    "\n",
    "# Imports the Google Cloud client library\n",
    "from google.cloud import vision\n",
    "from google.cloud.vision import types\n",
    "\n",
    "plt.figure(figsize=(40, 20))\n",
    "plt.style.use('dark_background')"
   ]
  },
  {
   "cell_type": "code",
   "execution_count": 247,
   "metadata": {},
   "outputs": [],
   "source": [
    "server = '1716'\n",
    "type = 'power' # or name\n",
    "\n",
    "n = 4"
   ]
  },
  {
   "cell_type": "code",
   "execution_count": 142,
   "metadata": {},
   "outputs": [],
   "source": [
    "#power\n",
    "for i in range(50):\n",
    "    n = i + 1\n",
    "    initial = Image.open('data/' + server + '/original/' + str(n) + '.png')\n",
    "    width = initial.size[0]\n",
    "    height = initial.size[1]\n",
    "    \n",
    "    croped_power = initial.crop((width*0.72, height*0.27, width*0.85, height*0.94))\n",
    "    croped_power.save('data/' + server + '/power/' + str(n) + '.png')\n",
    "\n",
    "    img_ori = cv2.imread('data/' + server + '/power/' + str(n) + '.png')\n",
    "\n",
    "    gray = cv2.cvtColor(img_ori, cv2.COLOR_BGR2GRAY)\n",
    "    structuringElement = cv2.getStructuringElement(cv2.MORPH_RECT, (3, 3))\n",
    "\n",
    "    imgTopHat = cv2.morphologyEx(gray, cv2.MORPH_TOPHAT, structuringElement)\n",
    "    imgBlackHat = cv2.morphologyEx(gray, cv2.MORPH_BLACKHAT, structuringElement)\n",
    "\n",
    "    imgGrayscalePlusTopHat = cv2.add(gray, imgTopHat)\n",
    "    gray = cv2.subtract(imgGrayscalePlusTopHat, imgBlackHat)\n",
    "\n",
    "    img_blurred = cv2.GaussianBlur(gray, ksize=(5, 5), sigmaX=0)\n",
    "\n",
    "    ret, img_thresh = cv2.threshold(\n",
    "        img_blurred, \n",
    "        180,\n",
    "        255,\n",
    "        cv2.THRESH_BINARY_INV\n",
    "    )\n",
    "\n",
    "    cv2.imwrite('data/' + server + '/power/' + str(n) + '.png', img_thresh)"
   ]
  },
  {
   "cell_type": "code",
   "execution_count": 158,
   "metadata": {},
   "outputs": [
    {
     "name": "stdout",
     "output_type": "stream",
     "text": [
      "['120,832,558', '107,927,795', '76,411,001', '72,585,749', '70,447,776', '70,016,732', '69,102,127', '68,177,191', '66,759,729', '66,106,170', '65,716,326', '64,952,051', '62,171,213', '61,766,725', '61,424,774', '60,968,427', '60,926,984', '60,604,815', '60,425,209', '55,981,784', '54,545,473', '54,299,967', '54,045,813', '52,931,609', '49,364,560', '49,261,092', '48,363,317', '48,109,440', '47,740,325', '46,914,457', '46,892,966', '46,851,260', '46,736,145', '46,567,510', '44,713,256', '44,583,699', '43,638,061', '42,246,440', '42,225,917', '42,021,130', '41,566,415', '41,535,646', '41,385,769', '40,900,693', '40,415,483', '40,395,887', '40,385,002', '40,338,569', '40,137,162', '39,766,656', '39,242,834', '39,175,722', '38,520,982', '38,464,926', '38,224,315', '37,479,704', '37,260,768', '37,259,290', '36,855,699', '36,786,651', '36,411,221', '35,685,823', '35,627,791', '35,598,987', '35,248,506', '35,108,027', '35,028,235', '34,912,577', '34,903,691', '34,817,213', '34,604,306', '34,473,890', '34,430,924', '34,286,578', '34,128,032', '34,101,571', '34,043,718', '34,021,898', '33,976,546', '33,841,047', '33,827,373', '33,793,138', '33,736,508', '33,627,440', '33,588,776', '33,520,290', '33,480,965', '33,327,804', '33,294,454', '33,244,066', '33,232,775', '33,138,048', '33,090,240', '33,065,181', '32,991,469', '32,490,874', '32,485,967', '32,484,599', '32,217,634', '32,178,627', '32,151,464', '32,131,656', '31,721,796', '31,569,962', '31,461,322', '31,442,121', '31,389,000', '31,083,604', '30,946,705', '30,501,329', '30,477,533', '30,385,738', '30,377,161', '30,264,232', '30,155,389', '30,097,801', '30,076,560', '30,049,543', '29,885,014', '29,839,161', '29,802,017', '29,764,493', '29,678,963', '29,665,104', '29,638,799', '29,630,391', '29,603,649', '29,597,722', '29,596,636', '29,498,563', '29,476,012', '29,343,918', '29,214,553', '29,196,519', '29,185,170', '29,144,550', '29,143,601', '29,139,118', '29,138,191', '29,117,589', '29,079,246', '29,053,302', '29,047,596', '28,950,813', '28,839,204', '28,806,634', '28,795,531', '28,794,474', '28,775,044', '28,773,444', '28,622,470', '28,611,747', '28,592,620', '28,586,710', '28,528,791', '28,449,407', '28,436,896', '28,382,288', '28,348,774', '28,333,573', '28,249,554', '28,241,478', '28,194,357', '28,192,182', '28,191,568', '28,134,719', '28,098,935', '28,079,810', '28,067,615', '28,048,731', '27,968,142', '27,966,013', '27,882,327', '27,879,167', '27,838,400', '27,822,868', '27,742,811', '27,685,758', '27,447,755', '27,323,881', '27,308,022', '27,305,127', '27,231,736', '27,188,876', '27,069,825', '27,053,188', '27,038,990', '27,011,664', '26,984,981', '26,885,991', '26,869,662', '26,849,616', '26,815,413', '26,790,165', '26,774,299', '26,751,903', '26,749,808', '26,721,546', '26,625,609', '26,620,132', '26,454,538', '26,419,806', '26,402,226', '26,394,085', '26,385,715', '26,345,492', '26,334,729', '26,275,115', '26,256,291', '26,239,763', '26,224,491', '26,153,145', '26,141,327', '26,132,618', '26,125,592', '26,038,667', '26,027,231', '26,002,667', '25,956,261', '25,953,767', '25,940,881', '25,936,295', '25,909,208', '25,840,326', '25,786,923', '25,757,951', '25,667,381', '25,640,847', '25,625,150', '25,506,526', '25,500,342', '25,407,446', '25,365,262', '25,309,728', '25,260,619', '25,255,104', '25,222,265', '25,219,786', '25,168,128', '25,074,748', '25,021,001', '25,003,785', '24,996,381', '24,993,807', '24,977,677', '24,961,312', '24,893,550', '24,852,872', '24,781,262', '24,779,307', '24,726,297', '24,698,281', '24,686,589', '24,635,734', '24,602,986', '24,558,901', '24,550,435', '24,486,777', '24,483,873', '24,468,281', '24,425,900', '24,318,065', '24,229,469', '24,202,843', '24,153,030', '24,135,626', '24,095,995', '24,083,729', '24,042,897', '24,016,932', '23,998,016', '23,991,577', '23,901,309', '23,734,483', '23,692,589', '23,673,515', '23,619,905', '23,598,797', '23,587,650', '23,521,690', '23,510,081', '23,486,800', '23,456,547', '23,440,499', '23,425,932', '23,425,624', '23,392,871', '23,391,598', '23,369,903', '23,365,493', '23,346,322', '23,332,736', '23,322,762', '23,300,105', '23,288,671', '23,269,125', '23,253,608', '23,244,817', '23,149,141', '23,145,106']\n"
     ]
    }
   ],
   "source": [
    "li = list()\n",
    "for i in range(50):\n",
    "    n = i + 1\n",
    "    detect_text('data/' + server + '/power/' + str(n) + '.png')"
   ]
  },
  {
   "cell_type": "code",
   "execution_count": 248,
   "metadata": {},
   "outputs": [],
   "source": [
    "#name crop\n",
    "for i in range(50):\n",
    "    n = i + 1\n",
    "    initial = Image.open('data/' + server + '/original/' + str(n) + '.png')\n",
    "    width = initial.size[0]\n",
    "    height = initial.size[1]\n",
    "    \n",
    "    croped_name = initial.crop((width*0.21, height*0.26, width*0.45, height*0.94))\n",
    "    croped_name.save('./data/' + server + '/name/' + str(n) + '.png')\n",
    "\n",
    "    img_ori = cv2.imread('data/' + server + '/name/' + str(n) + '.png')\n",
    "\n",
    "    gray = cv2.cvtColor(img_ori, cv2.COLOR_BGR2GRAY)\n",
    "    structuringElement = cv2.getStructuringElement(cv2.MORPH_RECT, (3, 3))\n",
    "\n",
    "    imgTopHat = cv2.morphologyEx(gray, cv2.MORPH_TOPHAT, structuringElement)\n",
    "    imgBlackHat = cv2.morphologyEx(gray, cv2.MORPH_BLACKHAT, structuringElement)\n",
    "\n",
    "    imgGrayscalePlusTopHat = cv2.add(gray, imgTopHat)\n",
    "    gray = cv2.subtract(imgGrayscalePlusTopHat, imgBlackHat)\n",
    "\n",
    "    img_blurred = cv2.GaussianBlur(gray, ksize=(5, 5), sigmaX=0)\n",
    "\n",
    "    ret, img_thresh = cv2.threshold(\n",
    "        img_blurred, \n",
    "        180,\n",
    "        255,\n",
    "        cv2.THRESH_BINARY_INV\n",
    "    )\n",
    "\n",
    "    cv2.imwrite('data/' + server + '/name/' + str(n) + '.png', img_thresh)\n"
   ]
  },
  {
   "cell_type": "code",
   "execution_count": 251,
   "metadata": {},
   "outputs": [],
   "source": [
    "# 이름 처리\n",
    "p = re.compile('[\\(\\)\\[\\]]')\n",
    "\n",
    "name = list()\n",
    "allience = list()\n",
    "\n",
    "for i in range(50):\n",
    "    n = i+1\n",
    "    li = list()\n",
    "    detect_text('data/' + server + '/name/' + str(n) + '.png')\n",
    "\n",
    "    for j in range(len(li)):\n",
    "\n",
    "        if len(li) == 0:\n",
    "            break\n",
    "\n",
    "        target = li.pop(0)\n",
    "        if p.match(target) != None:\n",
    "            name.append(target)\n",
    "            allience.append(li.pop(0))\n",
    "        else:\n",
    "            name.append(target)\n",
    "            allience.append('없음')\n"
   ]
  },
  {
   "cell_type": "code",
   "execution_count": 252,
   "metadata": {},
   "outputs": [],
   "source": [
    "df = pd.DataFrame({'name':name, 'Allience':allience})\n",
    "df.to_excel('test.xlsx')"
   ]
  },
  {
   "cell_type": "code",
   "execution_count": null,
   "metadata": {},
   "outputs": [],
   "source": [
    "def detect_text(path):\n",
    "    \"\"\"Detects text in the file.\"\"\"\n",
    "    from google.cloud import vision\n",
    "    import io\n",
    "    client = vision.ImageAnnotatorClient()\n",
    "\n",
    "    # [START vision_python_migration_text_detection]\n",
    "    with io.open(path, 'rb') as image_file:\n",
    "        content = image_file.read()\n",
    "\n",
    "    image = vision.types.Image(content=content)\n",
    "\n",
    "    response = client.text_detection(image=image)\n",
    "    texts = response.text_annotations\n",
    "\n",
    "    s = \"\"\n",
    "    \n",
    "    for c in texts[0].description:\n",
    "        if c != '\\n':\n",
    "            s += c\n",
    "        else:\n",
    "            li.append(s)\n",
    "            s = \"\""
   ]
  },
  {
   "cell_type": "code",
   "execution_count": 253,
   "metadata": {},
   "outputs": [
    {
     "name": "stdout",
     "output_type": "stream",
     "text": [
      "['[16ZO] 희 니', 'Troop Zero', '[16ZO] -최강불때-', 'Troop Zero', '|', '[16ZO] 안녕따님', 'Troop Zero', '[16ZR] Valkilmor2', 'Red Moon', '[16ZO] 希凱是我兒', 'Troop Zero', '[16ZO] 옥골이', 'Troop Zero']\n"
     ]
    }
   ],
   "source": [
    "li = list()\n",
    "detect_text('data/1716/name/10.png')\n",
    "print(li)"
   ]
  },
  {
   "cell_type": "code",
   "execution_count": null,
   "metadata": {},
   "outputs": [],
   "source": []
  }
 ],
 "metadata": {
  "kernelspec": {
   "display_name": "Python 3",
   "language": "python",
   "name": "python3"
  },
  "language_info": {
   "codemirror_mode": {
    "name": "ipython",
    "version": 3
   },
   "file_extension": ".py",
   "mimetype": "text/x-python",
   "name": "python",
   "nbconvert_exporter": "python",
   "pygments_lexer": "ipython3",
   "version": "3.6.5"
  }
 },
 "nbformat": 4,
 "nbformat_minor": 2
}
