{
 "cells": [
  {
   "cell_type": "code",
   "execution_count": 308,
   "metadata": {},
   "outputs": [
    {
     "data": {
      "text/plain": [
       "<Figure size 864x720 with 0 Axes>"
      ]
     },
     "metadata": {},
     "output_type": "display_data"
    }
   ],
   "source": [
    "import cv2\n",
    "import matplotlib.pyplot as plt\n",
    "import pytesseract\n",
    "import re\n",
    "import pandas as pd\n",
    "from PIL import Image\n",
    "import io\n",
    "import os\n",
    "\n",
    "# Imports the Google Cloud client library\n",
    "from google.cloud import vision\n",
    "from google.cloud.vision import types\n",
    "\n",
    "os.environ[\"GOOGLE_APPLICATION_CREDENTIALS\"]=\"/Users/sanghyunbyun/Desktop/rok/bin/ROKS-78e082836307.json\"\n",
    "\n",
    "plt.figure(figsize=(12, 10))\n",
    "plt.style.use('dark_background')"
   ]
  },
  {
   "cell_type": "code",
   "execution_count": 314,
   "metadata": {},
   "outputs": [],
   "source": [
    "servers = ['1715', '1716', '1717', '1718', '1719']\n",
    "n = 33\n",
    "p = re.compile('[\\(\\)\\[\\]]')\n",
    "p1 = re.compile('[,.]')"
   ]
  },
  {
   "cell_type": "code",
   "execution_count": 315,
   "metadata": {},
   "outputs": [],
   "source": [
    "def detect_text(path):\n",
    "    \"\"\"Detects text in the file.\"\"\"\n",
    "    from google.cloud import vision\n",
    "    import io\n",
    "    client = vision.ImageAnnotatorClient()\n",
    "\n",
    "    # [START vision_python_migration_text_detection]\n",
    "    with io.open(path, 'rb') as image_file:\n",
    "        content = image_file.read()\n",
    "\n",
    "    image = vision.types.Image(content=content)\n",
    "\n",
    "    response = client.text_detection(image=image)\n",
    "    texts = response.text_annotations\n",
    "    \n",
    "    vertices = (['({},{})'.format(vertex.x, vertex.y)\n",
    "                    for vertex in texts[0].bounding_poly.vertices])\n",
    "\n",
    "    return texts[0].description"
   ]
  },
  {
   "cell_type": "code",
   "execution_count": 316,
   "metadata": {},
   "outputs": [],
   "source": [
    "def chage_to_number(s_power):\n",
    "    list_of_numbers = re.findall(r'\\d+', s_power)\n",
    "    return int(''.join(list_of_numbers))"
   ]
  },
  {
   "cell_type": "code",
   "execution_count": 410,
   "metadata": {},
   "outputs": [],
   "source": [
    "for i in range(50):\n",
    "    n = i+1\n",
    "    initial = Image.open('./data/' + server + '/original/' + str(n) + '.png')\n",
    "    width = initial.size[0]\n",
    "    height = initial.size[1]\n",
    "\n",
    "    croped_name = initial.crop((width*0.21, height*0.25, width*0.72, height*0.94))\n",
    "    croped_power = initial.crop((width*0.72, height*0.25, width*0.85, height*0.94))\n",
    "\n",
    "    croped_name.save('./data/' + server + '/name/' + str(n) + '.png')\n",
    "    croped_power.save('./data/' + server + '/power/' + str(n) + '.png')"
   ]
  },
  {
   "cell_type": "code",
   "execution_count": 414,
   "metadata": {},
   "outputs": [],
   "source": [
    "for i in range(50): \n",
    "    n = i+1\n",
    "    initial = Image.open('./data/' + server + '/original/' + str(n) + '.png')\n",
    "    width = initial.size[0]\n",
    "    height = initial.size[1]\n",
    "\n",
    "    croped = initial.crop((width*0.21, height*0.25, width*0.85, height*0.94))\n",
    "    croped.save('./data/' + server + '/test/' + str(n) + '.png')"
   ]
  },
  {
   "cell_type": "code",
   "execution_count": 387,
   "metadata": {},
   "outputs": [
    {
     "ename": "ValueError",
     "evalue": "invalid literal for int() with base 10: ''",
     "output_type": "error",
     "traceback": [
      "\u001b[0;31m---------------------------------------------------------------------------\u001b[0m",
      "\u001b[0;31mValueError\u001b[0m                                Traceback (most recent call last)",
      "\u001b[0;32m<ipython-input-387-1e9ea3a2348c>\u001b[0m in \u001b[0;36m<module>\u001b[0;34m()\u001b[0m\n\u001b[1;32m     65\u001b[0m             \u001b[0mname\u001b[0m\u001b[0;34m.\u001b[0m\u001b[0mappend\u001b[0m\u001b[0;34m(\u001b[0m\u001b[0mtarget\u001b[0m\u001b[0;34m)\u001b[0m\u001b[0;34m\u001b[0m\u001b[0m\n\u001b[1;32m     66\u001b[0m             \u001b[0mallience\u001b[0m\u001b[0;34m.\u001b[0m\u001b[0mappend\u001b[0m\u001b[0;34m(\u001b[0m\u001b[0;34m'없음'\u001b[0m\u001b[0;34m)\u001b[0m\u001b[0;34m\u001b[0m\u001b[0m\n\u001b[0;32m---> 67\u001b[0;31m             \u001b[0mpower\u001b[0m\u001b[0;34m.\u001b[0m\u001b[0mappend\u001b[0m\u001b[0;34m(\u001b[0m\u001b[0mchage_to_number\u001b[0m\u001b[0;34m(\u001b[0m\u001b[0mtmp_texts\u001b[0m\u001b[0;34m.\u001b[0m\u001b[0mpop\u001b[0m\u001b[0;34m(\u001b[0m\u001b[0;36m0\u001b[0m\u001b[0;34m)\u001b[0m\u001b[0;34m)\u001b[0m\u001b[0;34m)\u001b[0m\u001b[0;34m\u001b[0m\u001b[0m\n\u001b[0m\u001b[1;32m     68\u001b[0m \u001b[0;34m\u001b[0m\u001b[0m\n\u001b[1;32m     69\u001b[0m \u001b[0mdf\u001b[0m \u001b[0;34m=\u001b[0m \u001b[0mpd\u001b[0m\u001b[0;34m.\u001b[0m\u001b[0mDataFrame\u001b[0m\u001b[0;34m(\u001b[0m\u001b[0;34m{\u001b[0m\u001b[0;34m'name'\u001b[0m\u001b[0;34m:\u001b[0m\u001b[0mname\u001b[0m\u001b[0;34m,\u001b[0m \u001b[0;34m'allience'\u001b[0m\u001b[0;34m:\u001b[0m\u001b[0mallience\u001b[0m\u001b[0;34m,\u001b[0m \u001b[0;34m'power'\u001b[0m\u001b[0;34m:\u001b[0m\u001b[0mpower\u001b[0m\u001b[0;34m}\u001b[0m\u001b[0;34m)\u001b[0m\u001b[0;34m\u001b[0m\u001b[0m\n",
      "\u001b[0;32m<ipython-input-316-669047b21e4a>\u001b[0m in \u001b[0;36mchage_to_number\u001b[0;34m(s_power)\u001b[0m\n\u001b[1;32m      1\u001b[0m \u001b[0;32mdef\u001b[0m \u001b[0mchage_to_number\u001b[0m\u001b[0;34m(\u001b[0m\u001b[0ms_power\u001b[0m\u001b[0;34m)\u001b[0m\u001b[0;34m:\u001b[0m\u001b[0;34m\u001b[0m\u001b[0m\n\u001b[1;32m      2\u001b[0m     \u001b[0mlist_of_numbers\u001b[0m \u001b[0;34m=\u001b[0m \u001b[0mre\u001b[0m\u001b[0;34m.\u001b[0m\u001b[0mfindall\u001b[0m\u001b[0;34m(\u001b[0m\u001b[0;34mr'\\d+'\u001b[0m\u001b[0;34m,\u001b[0m \u001b[0ms_power\u001b[0m\u001b[0;34m)\u001b[0m\u001b[0;34m\u001b[0m\u001b[0m\n\u001b[0;32m----> 3\u001b[0;31m     \u001b[0;32mreturn\u001b[0m \u001b[0mint\u001b[0m\u001b[0;34m(\u001b[0m\u001b[0;34m''\u001b[0m\u001b[0;34m.\u001b[0m\u001b[0mjoin\u001b[0m\u001b[0;34m(\u001b[0m\u001b[0mlist_of_numbers\u001b[0m\u001b[0;34m)\u001b[0m\u001b[0;34m)\u001b[0m\u001b[0;34m\u001b[0m\u001b[0m\n\u001b[0m",
      "\u001b[0;31mValueError\u001b[0m: invalid literal for int() with base 10: ''"
     ]
    }
   ],
   "source": [
    "# for server in servers:\n",
    "name = list()\n",
    "allience = list()\n",
    "power = list()\n",
    "\n",
    "server = '1717'\n",
    "\n",
    "for i in range(50):\n",
    "    n = i+1\n",
    "    initial = Image.open('./data/' + server + '/original/' + str(n) + '.png')\n",
    "    width = initial.size[0]\n",
    "    height = initial.size[1]\n",
    "\n",
    "    croped = initial.crop((width*0.21, height*0.25, width*0.85, height*0.94))\n",
    "    croped.save('./data/' + server + '/tmp.png')\n",
    "\n",
    "    img_ori = cv2.imread('./data/' + server + '/tmp.png')\n",
    "\n",
    "    gray = cv2.cvtColor(img_ori, cv2.COLOR_BGR2GRAY)\n",
    "    structuringElement = cv2.getStructuringElement(cv2.MORPH_RECT, (3, 3))\n",
    "\n",
    "    imgTopHat = cv2.morphologyEx(gray, cv2.MORPH_TOPHAT, structuringElement)\n",
    "    imgBlackHat = cv2.morphologyEx(gray, cv2.MORPH_BLACKHAT, structuringElement)\n",
    "\n",
    "    imgGrayscalePlusTopHat = cv2.add(gray, imgTopHat)\n",
    "    gray = cv2.subtract(imgGrayscalePlusTopHat, imgBlackHat)\n",
    "\n",
    "    img_blurred = cv2.GaussianBlur(gray, ksize=(5, 5), sigmaX=0)\n",
    "\n",
    "    ret, img_thresh = cv2.threshold(\n",
    "        img_blurred, \n",
    "        170,\n",
    "        255,\n",
    "        cv2.THRESH_BINARY_INV\n",
    "    )\n",
    "\n",
    "    cv2.imwrite('./data/' + server + '/tmp.png',img_thresh)\n",
    "    chars = detect_text('./data/' + server + '/tmp.png')\n",
    "\n",
    "    tmp_texts = list()\n",
    "    for c in chars:\n",
    "        if c != '\\n':\n",
    "            s += c\n",
    "        else:\n",
    "            tmp_texts.append(s)\n",
    "            s = \"\"\n",
    "\n",
    "    for k in range(len(tmp_texts)):\n",
    "        if len(tmp_texts) == 0:\n",
    "            break\n",
    "\n",
    "        target = tmp_texts.pop(0)\n",
    "        if p.search(target):\n",
    "            name.append(target)\n",
    "\n",
    "            target = tmp_texts.pop(0)\n",
    "            if p1.search(target) == None:\n",
    "                allience.append(target)\n",
    "                power.append(chage_to_number(tmp_texts.pop(0)))\n",
    "            else:\n",
    "                power.append(chage_to_number(target))\n",
    "                allience.append(tmp_texts.pop(0))\n",
    "\n",
    "        else:\n",
    "            name.append(target)\n",
    "            allience.append('없음')\n",
    "            power.append(chage_to_number(tmp_texts.pop(0)))\n",
    "\n",
    "df = pd.DataFrame({'name':name, 'allience':allience, 'power':power})\n",
    "df.to_excel('./data/' + server + '/result.xlsx')\n",
    "\n",
    "# plt.imshow(img_thresh, cmap='gray')"
   ]
  },
  {
   "cell_type": "code",
   "execution_count": 416,
   "metadata": {},
   "outputs": [],
   "source": [
    "name = list()\n",
    "allience = list()\n",
    "power = list()\n",
    "\n",
    "for i in range(50):\n",
    "    chars = detect_text('./data/1717/test/' + str(i+1) + '.png')\n",
    "    tmp_texts = list()\n",
    "    for c in chars:\n",
    "        if c != '\\n':\n",
    "            s += c\n",
    "        else:\n",
    "            tmp_texts.append(s)\n",
    "            s = \"\"\n",
    "    \n",
    "    for k in range(len(tmp_texts)):\n",
    "        if len(tmp_texts) == 0:\n",
    "            break\n",
    "\n",
    "        target = tmp_texts.pop(0)\n",
    "        if p.search(target):\n",
    "            name.append(target)\n",
    "\n",
    "            target = tmp_texts.pop(0)\n",
    "            if p1.search(target) == None:\n",
    "                allience.append(target)\n",
    "                power.append(chage_to_number(tmp_texts.pop(0)))\n",
    "            else:\n",
    "                power.append(chage_to_number(target))\n",
    "                allience.append(tmp_texts.pop(0))\n",
    "\n",
    "        else:\n",
    "            name.append(target)\n",
    "            allience.append('없음')\n",
    "            power.append(chage_to_number(tmp_texts.pop(0)))"
   ]
  },
  {
   "cell_type": "code",
   "execution_count": 419,
   "metadata": {},
   "outputs": [],
   "source": [
    "df = pd.DataFrame({'name':name, 'allience':allience, 'power':power})\n",
    "df.to_excel('./data/' + server + '/result.xlsx')"
   ]
  },
  {
   "cell_type": "code",
   "execution_count": 413,
   "metadata": {},
   "outputs": [
    {
     "name": "stdout",
     "output_type": "stream",
     "text": [
      "['[B717] Nelson777Neto', 'BME Strike Force', '[Cok3] 53CEOjpm', '猫の王国', '[U717] ATEM Junior', 'Undying Dreams', '[C717] #5+h', '猫の王国V', '[B717] zeldris Of B717', 'BME Strike Force', '[JGL] 40MEMO40', 'Fire & Blood']\n",
      "12\n"
     ]
    }
   ],
   "source": [
    "print(tmp_texts)\n",
    "print(len(tmp_texts))"
   ]
  },
  {
   "cell_type": "code",
   "execution_count": 367,
   "metadata": {},
   "outputs": [],
   "source": [
    "name = list()\n",
    "power = list()\n",
    "allience = list()\n",
    "\n",
    "\n",
    "for k in range(len(tmp_texts)):\n",
    "    if len(tmp_texts) == 0:\n",
    "        break\n",
    "\n",
    "    target = tmp_texts.pop(0)\n",
    "    if p.search(target):\n",
    "        name.append(target)\n",
    "\n",
    "        target = tmp_texts.pop(0)\n",
    "        if p1.search(target) == None:\n",
    "            allience.append(target)\n",
    "            power.append(chage_to_number(tmp_texts.pop(0)))\n",
    "        else:\n",
    "            power.append(chage_to_number(target))\n",
    "            allience.append(tmp_texts.pop(0))\n",
    "\n",
    "    else:\n",
    "        name.append(target)\n",
    "        allience.append('없음')\n",
    "        power.append(chage_to_number(tmp_texts.pop(0)))"
   ]
  },
  {
   "cell_type": "code",
   "execution_count": 372,
   "metadata": {},
   "outputs": [
    {
     "data": {
      "text/html": [
       "<div>\n",
       "<style scoped>\n",
       "    .dataframe tbody tr th:only-of-type {\n",
       "        vertical-align: middle;\n",
       "    }\n",
       "\n",
       "    .dataframe tbody tr th {\n",
       "        vertical-align: top;\n",
       "    }\n",
       "\n",
       "    .dataframe thead th {\n",
       "        text-align: right;\n",
       "    }\n",
       "</style>\n",
       "<table border=\"1\" class=\"dataframe\">\n",
       "  <thead>\n",
       "    <tr style=\"text-align: right;\">\n",
       "      <th></th>\n",
       "      <th>a</th>\n",
       "      <th>v</th>\n",
       "      <th>x</th>\n",
       "    </tr>\n",
       "  </thead>\n",
       "  <tbody>\n",
       "    <tr>\n",
       "      <th>0</th>\n",
       "      <td>(UB17] SCORPIONY</td>\n",
       "      <td>38873032</td>\n",
       "      <td>Unicorn Academy B</td>\n",
       "    </tr>\n",
       "    <tr>\n",
       "      <th>1</th>\n",
       "      <td>[JGL] HairyHightlander</td>\n",
       "      <td>38803749</td>\n",
       "      <td>Fire &amp; Blood</td>\n",
       "    </tr>\n",
       "    <tr>\n",
       "      <th>2</th>\n",
       "      <td>(17SR] Nighthawkz</td>\n",
       "      <td>38780908</td>\n",
       "      <td>SERENITY</td>\n",
       "    </tr>\n",
       "    <tr>\n",
       "      <th>3</th>\n",
       "      <td>(C717] REAS</td>\n",
       "      <td>38585127</td>\n",
       "      <td>猫の王国V</td>\n",
       "    </tr>\n",
       "    <tr>\n",
       "      <th>4</th>\n",
       "      <td>(17SR] Juice Box Hero</td>\n",
       "      <td>38047014</td>\n",
       "      <td>SERENITY</td>\n",
       "    </tr>\n",
       "    <tr>\n",
       "      <th>5</th>\n",
       "      <td>(8717] Brownnnnn</td>\n",
       "      <td>37782898</td>\n",
       "      <td>BME Strike Force</td>\n",
       "    </tr>\n",
       "  </tbody>\n",
       "</table>\n",
       "</div>"
      ],
      "text/plain": [
       "                        a         v                  x\n",
       "0        (UB17] SCORPIONY  38873032  Unicorn Academy B\n",
       "1  [JGL] HairyHightlander  38803749       Fire & Blood\n",
       "2       (17SR] Nighthawkz  38780908           SERENITY\n",
       "3             (C717] REAS  38585127              猫の王国V\n",
       "4   (17SR] Juice Box Hero  38047014           SERENITY\n",
       "5        (8717] Brownnnnn  37782898   BME Strike Force"
      ]
     },
     "execution_count": 372,
     "metadata": {},
     "output_type": "execute_result"
    }
   ],
   "source": [
    "df = pd.DataFrame({'a':name, 'v':power, 'x':allience})\n",
    "df"
   ]
  },
  {
   "cell_type": "code",
   "execution_count": null,
   "metadata": {},
   "outputs": [],
   "source": []
  }
 ],
 "metadata": {
  "kernelspec": {
   "display_name": "Python 3",
   "language": "python",
   "name": "python3"
  },
  "language_info": {
   "codemirror_mode": {
    "name": "ipython",
    "version": 3
   },
   "file_extension": ".py",
   "mimetype": "text/x-python",
   "name": "python",
   "nbconvert_exporter": "python",
   "pygments_lexer": "ipython3",
   "version": "3.6.5"
  }
 },
 "nbformat": 4,
 "nbformat_minor": 2
}
