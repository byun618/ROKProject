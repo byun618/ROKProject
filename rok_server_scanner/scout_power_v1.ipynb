{
 "cells": [
  {
   "cell_type": "code",
   "execution_count": 184,
   "metadata": {},
   "outputs": [],
   "source": [
    "import cv2\n",
    "import matplotlib.pyplot as plt\n",
    "import pytesseract\n",
    "import re\n",
    "import pandas as pd\n",
    "from PIL import Image\n",
    "\n",
    "plt.style.use('dark_background')"
   ]
  },
  {
   "cell_type": "code",
   "execution_count": 185,
   "metadata": {},
   "outputs": [],
   "source": [
    "server = '1716'"
   ]
  },
  {
   "cell_type": "code",
   "execution_count": 186,
   "metadata": {},
   "outputs": [],
   "source": [
    "cnt = 1\n",
    "\n",
    "for i in range(50):\n",
    "    test = Image.open('./data/' + server + '/original/' + str(i+1) + '.png')\n",
    "    x1, x2 = 1400, 1600\n",
    "\n",
    "    test_crop = test.crop((x1, 300, x2, 390))\n",
    "    test_crop1 = test.crop((x1, 430, x2, 520))\n",
    "    test_crop2 = test.crop((x1, 550, x2, 640))\n",
    "    test_crop3 = test.crop((x1, 670, x2, 770))\n",
    "    test_crop4 = test.crop((x1, 790, x2, 890))\n",
    "    test_crop5 = test.crop((x1, 900, x2, 1000))\n",
    "\n",
    "    test_crop.save('./data/' + server + '/power/' + str(cnt) + '.png')\n",
    "    cnt += 1\n",
    "    test_crop1.save('./data/' + server + '/power/' + str(cnt) + '.png')\n",
    "    cnt += 1\n",
    "    test_crop2.save('./data/' + server + '/power/' + str(cnt) + '.png')\n",
    "    cnt += 1\n",
    "    test_crop3.save('./data/' + server + '/power/' + str(cnt) + '.png')\n",
    "    cnt += 1\n",
    "    test_crop4.save('./data/' + server + '/power/' + str(cnt) + '.png')\n",
    "    cnt += 1\n",
    "    test_crop5.save('./data/' + server + '/power/' + str(cnt) + '.png')\n",
    "    cnt += 1"
   ]
  },
  {
   "cell_type": "code",
   "execution_count": 187,
   "metadata": {},
   "outputs": [],
   "source": [
    "power = list()\n",
    "for i in range(300):\n",
    "    img_ori = cv2.imread('data/' + server + '/power/' + str(i+1) + '.png')\n",
    "\n",
    "    gray = cv2.cvtColor(img_ori, cv2.COLOR_BGR2GRAY)\n",
    "    structuringElement = cv2.getStructuringElement(cv2.MORPH_RECT, (3, 3))\n",
    "\n",
    "    imgTopHat = cv2.morphologyEx(gray, cv2.MORPH_TOPHAT, structuringElement)\n",
    "    imgBlackHat = cv2.morphologyEx(gray, cv2.MORPH_BLACKHAT, structuringElement)\n",
    "\n",
    "    imgGrayscalePlusTopHat = cv2.add(gray, imgTopHat)\n",
    "    gray = cv2.subtract(imgGrayscalePlusTopHat, imgBlackHat)\n",
    "\n",
    "    img_blurred = cv2.GaussianBlur(gray, ksize=(5, 5), sigmaX=0)\n",
    "\n",
    "    ret, img_thresh = cv2.threshold(\n",
    "        img_blurred, \n",
    "        127,\n",
    "        255,\n",
    "        cv2.THRESH_BINARY_INV\n",
    "    )\n",
    "\n",
    "    chars = pytesseract.image_to_string(img_thresh)\n",
    "    list_of_numbers = re.findall(r'\\d+', chars)\n",
    "    result_number = ''.join(list_of_numbers)\n",
    "\n",
    "    if result_number == '':\n",
    "        result_number = '0'\n",
    "\n",
    "    power.append(int(result_number))"
   ]
  },
  {
   "cell_type": "code",
   "execution_count": 188,
   "metadata": {},
   "outputs": [],
   "source": [
    "result = pd.DataFrame({'POWER': power})"
   ]
  },
  {
   "cell_type": "code",
   "execution_count": 192,
   "metadata": {},
   "outputs": [
    {
     "data": {
      "text/html": [
       "<div>\n",
       "<style scoped>\n",
       "    .dataframe tbody tr th:only-of-type {\n",
       "        vertical-align: middle;\n",
       "    }\n",
       "\n",
       "    .dataframe tbody tr th {\n",
       "        vertical-align: top;\n",
       "    }\n",
       "\n",
       "    .dataframe thead th {\n",
       "        text-align: right;\n",
       "    }\n",
       "</style>\n",
       "<table border=\"1\" class=\"dataframe\">\n",
       "  <thead>\n",
       "    <tr style=\"text-align: right;\">\n",
       "      <th></th>\n",
       "      <th>POWER</th>\n",
       "    </tr>\n",
       "  </thead>\n",
       "  <tbody>\n",
       "    <tr>\n",
       "      <th>count</th>\n",
       "      <td>300.00000</td>\n",
       "    </tr>\n",
       "    <tr>\n",
       "      <th>mean</th>\n",
       "      <td>25860905.92667</td>\n",
       "    </tr>\n",
       "    <tr>\n",
       "      <th>std</th>\n",
       "      <td>12955217.76179</td>\n",
       "    </tr>\n",
       "    <tr>\n",
       "      <th>min</th>\n",
       "      <td>14656652.00000</td>\n",
       "    </tr>\n",
       "    <tr>\n",
       "      <th>25%</th>\n",
       "      <td>18099240.75000</td>\n",
       "    </tr>\n",
       "    <tr>\n",
       "      <th>50%</th>\n",
       "      <td>21901716.00000</td>\n",
       "    </tr>\n",
       "    <tr>\n",
       "      <th>75%</th>\n",
       "      <td>28319949.75000</td>\n",
       "    </tr>\n",
       "    <tr>\n",
       "      <th>max</th>\n",
       "      <td>110476763.00000</td>\n",
       "    </tr>\n",
       "  </tbody>\n",
       "</table>\n",
       "</div>"
      ],
      "text/plain": [
       "                POWER\n",
       "count       300.00000\n",
       "mean   25860905.92667\n",
       "std    12955217.76179\n",
       "min    14656652.00000\n",
       "25%    18099240.75000\n",
       "50%    21901716.00000\n",
       "75%    28319949.75000\n",
       "max   110476763.00000"
      ]
     },
     "execution_count": 192,
     "metadata": {},
     "output_type": "execute_result"
    }
   ],
   "source": [
    "pd.options.display.float_format = '{:.5f}'.format\n",
    "describe = result.describe()\n",
    "describe"
   ]
  },
  {
   "cell_type": "code",
   "execution_count": 190,
   "metadata": {},
   "outputs": [],
   "source": [
    "result.to_excel('./data/' + server + '/result_v1.xlsx')\n",
    "describe.to_excel('./data/' + server + '/describe_v1.xlsx')"
   ]
  },
  {
   "cell_type": "code",
   "execution_count": null,
   "metadata": {},
   "outputs": [],
   "source": []
  }
 ],
 "metadata": {
  "kernelspec": {
   "display_name": "Python 3",
   "language": "python",
   "name": "python3"
  },
  "language_info": {
   "codemirror_mode": {
    "name": "ipython",
    "version": 3
   },
   "file_extension": ".py",
   "mimetype": "text/x-python",
   "name": "python",
   "nbconvert_exporter": "python",
   "pygments_lexer": "ipython3",
   "version": "3.6.5"
  }
 },
 "nbformat": 4,
 "nbformat_minor": 4
}
