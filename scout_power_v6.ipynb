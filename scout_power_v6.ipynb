{
 "cells": [
  {
   "cell_type": "code",
   "execution_count": 2,
   "metadata": {},
   "outputs": [
    {
     "data": {
      "text/plain": [
       "<Figure size 864x720 with 0 Axes>"
      ]
     },
     "metadata": {},
     "output_type": "display_data"
    }
   ],
   "source": [
    "import cv2\n",
    "import matplotlib.pyplot as plt\n",
    "import re\n",
    "import pandas as pd\n",
    "from PIL import Image\n",
    "import io\n",
    "import os\n",
    "\n",
    "# Imports the Google Cloud client library\n",
    "from google.cloud import vision\n",
    "from google.cloud.vision import types\n",
    "\n",
    "os.environ[\"GOOGLE_APPLICATION_CREDENTIALS\"]=\"bin/ROK Project-215279b3c99c.json\"\n",
    "\n",
    "plt.figure(figsize=(12, 10))\n",
    "plt.style.use('dark_background')"
   ]
  },
  {
   "cell_type": "code",
   "execution_count": 3,
   "metadata": {},
   "outputs": [],
   "source": [
    "servers = ['1715']\n",
    "n = 33\n",
    "p = re.compile('[\\(\\)\\[\\]]')\n",
    "p1 = re.compile('[,.]')"
   ]
  },
  {
   "cell_type": "code",
   "execution_count": 4,
   "metadata": {},
   "outputs": [],
   "source": [
    "def detect_text(path):\n",
    "    \"\"\"Detects text in the file.\"\"\"\n",
    "    from google.cloud import vision\n",
    "    import io\n",
    "    client = vision.ImageAnnotatorClient()\n",
    "\n",
    "    # [START vision_python_migration_text_detection]\n",
    "    with io.open(path, 'rb') as image_file:\n",
    "        content = image_file.read()\n",
    "\n",
    "    image = vision.types.Image(content=content)\n",
    "\n",
    "    response = client.text_detection(image=image)\n",
    "    texts = response.text_annotations\n",
    "    \n",
    "    vertices = (['({},{})'.format(vertex.x, vertex.y)\n",
    "                    for vertex in texts[0].bounding_poly.vertices])\n",
    "\n",
    "    return texts[0].description"
   ]
  },
  {
   "cell_type": "code",
   "execution_count": 5,
   "metadata": {},
   "outputs": [],
   "source": [
    "def chage_to_number(s_power):\n",
    "    list_of_numbers = re.findall(r'\\d+', s_power)\n",
    "    return int(''.join(list_of_numbers))"
   ]
  },
  {
   "cell_type": "code",
   "execution_count": 10,
   "metadata": {},
   "outputs": [],
   "source": [
    "# for server in servers:\n",
    "for server in servers:\n",
    "    name = list()\n",
    "    alliance = list()\n",
    "    power = list()\n",
    "    \n",
    "    for i in range(50):\n",
    "        n = i+1\n",
    "        initial = Image.open('./data/server/' + server + '/original/' + str(n) + '.png')\n",
    "        width = initial.size[0]\n",
    "        height = initial.size[1]\n",
    "\n",
    "        croped = initial.crop((width*0.21, height*0.25, width*0.85, height*0.94))\n",
    "        croped.save('./data/server/' + server + '/croped/' + str(n) + '.png')\n",
    "\n",
    "        chars = detect_text('./data/server/' + server + '/croped/' + str(n) + '.png')\n",
    "\n",
    "        tmp_texts = list()\n",
    "        s = \"\"\n",
    "        for c in chars:\n",
    "            if c != '\\n':\n",
    "                s += c\n",
    "            else:\n",
    "                tmp_texts.append(s)\n",
    "                s = \"\"\n",
    "\n",
    "        for k in range(len(tmp_texts)):\n",
    "            if len(tmp_texts) == 0:\n",
    "                break\n",
    "\n",
    "            target = tmp_texts.pop(0)\n",
    "            if p.search(target):\n",
    "                name.append(target)\n",
    "\n",
    "                target = tmp_texts.pop(0)\n",
    "                if p1.search(target) == None:\n",
    "                    alliance.append(target)\n",
    "                    power.append(chage_to_number(tmp_texts.pop(0)))\n",
    "                else:\n",
    "                    power.append(chage_to_number(target))\n",
    "                    alliance.append(tmp_texts.pop(0))\n",
    "\n",
    "            else:\n",
    "                name.append(target)\n",
    "                alliance.append('없음')\n",
    "                power.append(chage_to_number(tmp_texts.pop(0)))\n",
    "\n",
    "    df = pd.DataFrame({'name':name, 'alliance':alliance, 'power':power})\n",
    "    df.to_excel('./data/server/' + server + '/result.xlsx')\n",
    "\n",
    "# plt.imshow(img_thresh, cmap='gray')"
   ]
  },
  {
   "cell_type": "code",
   "execution_count": null,
   "metadata": {},
   "outputs": [],
   "source": []
  },
  {
   "cell_type": "code",
   "execution_count": null,
   "metadata": {},
   "outputs": [],
   "source": []
  }
 ],
 "metadata": {
  "kernelspec": {
   "display_name": "Python 3",
   "language": "python",
   "name": "python3"
  },
  "language_info": {
   "codemirror_mode": {
    "name": "ipython",
    "version": 3
   },
   "file_extension": ".py",
   "mimetype": "text/x-python",
   "name": "python",
   "nbconvert_exporter": "python",
   "pygments_lexer": "ipython3",
   "version": "3.7.0"
  }
 },
 "nbformat": 4,
 "nbformat_minor": 2
}
