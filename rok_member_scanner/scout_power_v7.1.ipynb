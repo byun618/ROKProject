{
 "cells": [
  {
   "cell_type": "code",
   "execution_count": 34,
   "metadata": {},
   "outputs": [
    {
     "data": {
      "text/plain": [
       "<Figure size 3600x2880 with 0 Axes>"
      ]
     },
     "metadata": {},
     "output_type": "display_data"
    }
   ],
   "source": [
    "import cv2\n",
    "import matplotlib.pyplot as plt\n",
    "import pytesseract\n",
    "import re\n",
    "import pandas as pd\n",
    "from PIL import Image\n",
    "import io\n",
    "import os\n",
    "import glob\n",
    "\n",
    "# Imports the Google Cloud client library\n",
    "from google.cloud import vision\n",
    "from google.cloud.vision import types\n",
    "\n",
    "os.environ[\"GOOGLE_APPLICATION_CREDENTIALS\"]=\"/Users/sanghyunbyun/Desktop/rok/bin/ROKS-78e082836307.json\"\n",
    "\n",
    "plt.figure(figsize=(50, 40))\n",
    "plt.style.use('dark_background')\n",
    "\n",
    "images = glob.glob('./data/info/original/ex/*.PNG')\n",
    "image_path = './data/info/original/ex/'\n",
    "p3 = re.compile(image_path)"
   ]
  },
  {
   "cell_type": "code",
   "execution_count": 2,
   "metadata": {},
   "outputs": [],
   "source": [
    "def detect_text(path):\n",
    "    \"\"\"Detects text in the file.\"\"\"\n",
    "    from google.cloud import vision\n",
    "    import io\n",
    "    client = vision.ImageAnnotatorClient()\n",
    "\n",
    "    # [START vision_python_migration_text_detection]\n",
    "    with io.open(path, 'rb') as image_file:\n",
    "        content = image_file.read()\n",
    "\n",
    "    image = vision.types.Image(content=content)\n",
    "\n",
    "    response = client.text_detection(image=image)\n",
    "    texts = response.text_annotations\n",
    "    \n",
    "    vertices = (['({},{})'.format(vertex.x, vertex.y)\n",
    "                    for vertex in texts[0].bounding_poly.vertices])\n",
    "\n",
    "    return texts[0].description"
   ]
  },
  {
   "cell_type": "code",
   "execution_count": 3,
   "metadata": {},
   "outputs": [],
   "source": [
    "def change_to_number(s_power):\n",
    "    list_of_numbers = re.findall(r'\\d+', s_power)\n",
    "    return int(''.join(list_of_numbers))"
   ]
  },
  {
   "cell_type": "code",
   "execution_count": 4,
   "metadata": {},
   "outputs": [],
   "source": [
    "def change_to_list(chars):\n",
    "    tmp_texts = list()\n",
    "    s = \"\"\n",
    "    for c in chars:\n",
    "        if c != '\\n':\n",
    "            s += c\n",
    "        else:\n",
    "            tmp_texts.append(s)\n",
    "            s = \"\"\n",
    "    \n",
    "    return tmp_texts"
   ]
  },
  {
   "cell_type": "code",
   "execution_count": 5,
   "metadata": {},
   "outputs": [],
   "source": [
    "def convert_img(img, category, i):\n",
    "    gray = cv2.cvtColor(img, cv2.COLOR_BGR2GRAY)\n",
    "    structuringElement = cv2.getStructuringElement(cv2.MORPH_RECT, (3, 3))\n",
    "\n",
    "    imgTopHat = cv2.morphologyEx(gray, cv2.MORPH_TOPHAT, structuringElement)\n",
    "    imgBlackHat = cv2.morphologyEx(gray, cv2.MORPH_BLACKHAT, structuringElement)\n",
    "\n",
    "    imgGrayscalePlusTopHat = cv2.add(gray, imgTopHat)\n",
    "    gray = cv2.subtract(imgGrayscalePlusTopHat, imgBlackHat)\n",
    "\n",
    "    img_blurred = cv2.GaussianBlur(gray, ksize=(5, 5), sigmaX=0)\n",
    "\n",
    "    ret, img_thresh = cv2.threshold(\n",
    "        img_blurred, \n",
    "        160, #name : 180\n",
    "        255,\n",
    "        cv2.THRESH_BINARY\n",
    "    )\n",
    "\n",
    "    cv2.imwrite('./data/info/convert/' + category + '/' + str(i) + '.png',img_thresh)"
   ]
  },
  {
   "cell_type": "code",
   "execution_count": 85,
   "metadata": {},
   "outputs": [
    {
     "name": "stdout",
     "output_type": "stream",
     "text": [
      "IMG_0549.PNG\n"
     ]
    }
   ],
   "source": [
    "# crop\n",
    "# for image in images:\n",
    "initial = Image.open(images[0])\n",
    "width = initial.size[0]\n",
    "height = initial.size[1]\n",
    "\n",
    "image_name = re.sub(p3, '', initial.filename)\n",
    "print(image_name)\n",
    "        # 3200 x 1440 \n",
    "        # name 0.295 0.15 0.635 0.2\n",
    "        # kill 0.56 0.19 0.72 0.44\n",
    "        # dead&support 0.20 0.23 0.80 0.98\n",
    "\n",
    "        # 1334 x 750 \n",
    "        # name 0.242 0.13 0.66 0.205\n",
    "        # kill 0.57 0.19 0.78 0.44\n",
    "        #name\n",
    "    #     croped = initial.crop((width*0.242, height*0.13, width*0.66 , height*0.205))\n",
    "    #     croped.save('./data/info/croped/name/' + image_name)\n",
    "\n",
    "    #kill\n",
    "#     croped = initial.crop((width*0.57, height*0.19, width*0.78, height*0.44))\n",
    "#     croped.save('./data/info/croped/kill/' + image_name)\n",
    "\n",
    "# #dead & support\n",
    "croped = initial.crop((width*0.10, height*0.228, width*0.80, height*0.985))\n",
    "croped.save('./data/info/croped/ds/' + image_name)"
   ]
  },
  {
   "cell_type": "code",
   "execution_count": null,
   "metadata": {},
   "outputs": [],
   "source": []
  }
 ],
 "metadata": {
  "kernelspec": {
   "display_name": "Python 3",
   "language": "python",
   "name": "python3"
  },
  "language_info": {
   "codemirror_mode": {
    "name": "ipython",
    "version": 3
   },
   "file_extension": ".py",
   "mimetype": "text/x-python",
   "name": "python",
   "nbconvert_exporter": "python",
   "pygments_lexer": "ipython3",
   "version": "3.7.6"
  }
 },
 "nbformat": 4,
 "nbformat_minor": 2
}
