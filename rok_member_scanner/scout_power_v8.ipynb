{
 "cells": [
  {
   "cell_type": "code",
   "execution_count": 1,
   "metadata": {},
   "outputs": [],
   "source": [
    "import cv2\n",
    "import matplotlib.pyplot as plt\n",
    "import pytesseract\n",
    "import re\n",
    "import pandas as pd\n",
    "import numpy as np\n",
    "from PIL import Image\n",
    "import io\n",
    "import os\n",
    "import os.path\n",
    "import glob\n",
    "from datetime import datetime\n",
    "from google.cloud import vision\n",
    "from google.cloud.vision import types"
   ]
  },
  {
   "cell_type": "code",
   "execution_count": 2,
   "metadata": {},
   "outputs": [
    {
     "ename": "ValueError",
     "evalue": "'data/info/original/Screenshot_20200727-203539_Rise of Kingdoms.jpg' is not in list",
     "output_type": "error",
     "traceback": [
      "\u001b[1;31m---------------------------------------------------------------------------\u001b[0m",
      "\u001b[1;31mValueError\u001b[0m                                Traceback (most recent call last)",
      "\u001b[1;32m<ipython-input-2-7d8522a9175a>\u001b[0m in \u001b[0;36m<module>\u001b[1;34m\u001b[0m\n\u001b[0;32m      5\u001b[0m \u001b[1;33m\u001b[0m\u001b[0m\n\u001b[0;32m      6\u001b[0m \u001b[0mimages\u001b[0m \u001b[1;33m=\u001b[0m \u001b[0mglob\u001b[0m\u001b[1;33m.\u001b[0m\u001b[0mglob\u001b[0m\u001b[1;33m(\u001b[0m\u001b[1;34m'data/info/original/*.jpg'\u001b[0m\u001b[1;33m)\u001b[0m\u001b[1;33m\u001b[0m\u001b[1;33m\u001b[0m\u001b[0m\n\u001b[1;32m----> 7\u001b[1;33m \u001b[0mprint\u001b[0m\u001b[1;33m(\u001b[0m\u001b[0mimages\u001b[0m\u001b[1;33m.\u001b[0m\u001b[0mindex\u001b[0m\u001b[1;33m(\u001b[0m\u001b[1;34m'data/info/original/Screenshot_20200727-203539_Rise of Kingdoms.jpg'\u001b[0m\u001b[1;33m)\u001b[0m\u001b[1;33m)\u001b[0m\u001b[1;33m\u001b[0m\u001b[1;33m\u001b[0m\u001b[0m\n\u001b[0m",
      "\u001b[1;31mValueError\u001b[0m: 'data/info/original/Screenshot_20200727-203539_Rise of Kingdoms.jpg' is not in list"
     ]
    },
    {
     "data": {
      "text/plain": [
       "<Figure size 3600x2880 with 0 Axes>"
      ]
     },
     "metadata": {},
     "output_type": "display_data"
    }
   ],
   "source": [
    "os.environ[\"GOOGLE_APPLICATION_CREDENTIALS\"]=\"bin/ROKS-78e082836307.json\"\n",
    "\n",
    "plt.figure(figsize=(50, 40))\n",
    "plt.style.use('dark_background')\n",
    "\n",
    "images = glob.glob('data/info/original/*.jpg')\n",
    "print(images.index('data/info/original/Screenshot_20200727-203539_Rise of Kingdoms.jpg'))"
   ]
  },
  {
   "cell_type": "code",
   "execution_count": 3,
   "metadata": {},
   "outputs": [],
   "source": [
    "def detect_text(path):\n",
    "    \"\"\"Detects text in the file.\"\"\"\n",
    "    from google.cloud import vision\n",
    "    import io\n",
    "    client = vision.ImageAnnotatorClient()\n",
    "\n",
    "    # [START vision_python_migration_text_detection]\n",
    "    with io.open(path, 'rb') as image_file:\n",
    "        content = image_file.read()\n",
    "\n",
    "    image = vision.types.Image(content=content)\n",
    "\n",
    "    response = client.text_detection(image=image)\n",
    "    texts = response.text_annotations\n",
    "    \n",
    "    vertices = (['({},{})'.format(vertex.x, vertex.y)\n",
    "                    for vertex in texts[0].bounding_poly.vertices])\n",
    "\n",
    "    return texts[0].description"
   ]
  },
  {
   "cell_type": "code",
   "execution_count": 4,
   "metadata": {},
   "outputs": [],
   "source": [
    "def change_to_number(s_power):\n",
    "    list_of_numbers = re.findall(r'\\d+', s_power)\n",
    "    return int(''.join(list_of_numbers))"
   ]
  },
  {
   "cell_type": "code",
   "execution_count": 5,
   "metadata": {},
   "outputs": [],
   "source": [
    "def change_to_list(chars):\n",
    "    tmp_texts = list()\n",
    "    s = \"\"\n",
    "    for c in chars:\n",
    "        if c != '\\n':\n",
    "            s += c\n",
    "        else:\n",
    "            tmp_texts.append(s)\n",
    "            s = \"\"\n",
    "    \n",
    "    return tmp_texts"
   ]
  },
  {
   "cell_type": "code",
   "execution_count": 125,
   "metadata": {},
   "outputs": [
    {
     "name": "stdout",
     "output_type": "stream",
     "text": [
      "0:00:41.441502\n"
     ]
    }
   ],
   "source": [
    "#crop & convert\n",
    "start_time = datetime.now()\n",
    "\n",
    "for image in images:\n",
    "    initial = Image.open(image)\n",
    "    width = initial.size[0]\n",
    "    height = initial.size[1]\n",
    "\n",
    "    path, file_name = os.path.split(image)\n",
    "\n",
    "    #name\n",
    "    crop_name = initial.crop((width*0.295, height*0.15, width*0.8, height*0.2))\n",
    "\n",
    "    #kill\n",
    "    crop_kill = initial.crop((width*0.56, height*0.28, width*0.72, height*0.44))\n",
    "    img_white = Image.new('RGB', (57, 231), (255, 255, 255, 255))\n",
    "    crop_kill.paste(img_white, (0, 0, 57, 231))\n",
    "    crop_kill.paste(img_white, (243, 0, 300, 231))\n",
    "\n",
    "    img = np.array(crop_kill) \n",
    "    img = img[:, :, ::-1].copy() \n",
    "\n",
    "    gray = cv2.cvtColor(img, cv2.COLOR_BGR2GRAY)\n",
    "    structuringElement = cv2.getStructuringElement(cv2.MORPH_RECT, (3, 3))\n",
    "\n",
    "    imgTopHat = cv2.morphologyEx(gray, cv2.MORPH_TOPHAT, structuringElement)\n",
    "    imgBlackHat = cv2.morphologyEx(gray, cv2.MORPH_BLACKHAT, structuringElement)\n",
    "\n",
    "    imgGrayscalePlusTopHat = cv2.add(gray, imgTopHat)\n",
    "    gray = cv2.subtract(imgGrayscalePlusTopHat, imgBlackHat)\n",
    "\n",
    "    img_blurred = cv2.GaussianBlur(gray, ksize=(5, 5), sigmaX=0)\n",
    "\n",
    "    ret, img_thresh = cv2.threshold(\n",
    "    img_blurred, \n",
    "    140,\n",
    "    255,\n",
    "    cv2.THRESH_BINARY_INV\n",
    "    )\n",
    "    crop_kill = Image.fromarray(img_thresh)\n",
    "\n",
    "    crop_ds = initial.crop((width*0.20, height*0.23, width*0.8, height*0.98))\n",
    "\n",
    "    nw, nh = crop_name.size\n",
    "    kw, kh = crop_kill.size\n",
    "    dsw, dsh = crop_ds.size\n",
    "\n",
    "    crop_name.save('data/info/croped/name/' + file_name)\n",
    "    crop_kill.save('data/info/croped/kill/' + file_name)\n",
    "    crop_ds.save('data/info/croped/ds/' + file_name)\n",
    "\n",
    "    merge = Image.new('RGB', (bw, nh+kh+dsh),(0, 0, 0))\n",
    "\n",
    "    merge.paste(crop_name, (0, 0, nw, nh))\n",
    "    merge.paste(crop_kill, (0, nh, kw, nh+kh))\n",
    "    merge.paste(crop_ds, (0, nh+kh, dsw, th+kh+dsh))\n",
    "\n",
    "    merge.save('data/info/convert/' + file_name)\n",
    "\n",
    "end_time = datetime.now()\n",
    "\n",
    "print (end_time - start_time)"
   ]
  },
  {
   "cell_type": "code",
   "execution_count": 127,
   "metadata": {},
   "outputs": [
    {
     "name": "stdout",
     "output_type": "stream",
     "text": [
      "0 done...\n",
      "1 done...\n",
      "2 done...\n",
      "3 done...\n",
      "4 done...\n",
      "5 done...\n",
      "6 done...\n",
      "7 done...\n",
      "8 done...\n",
      "9 done...\n",
      "10 done...\n",
      "11 done...\n",
      "12 done...\n",
      "13 done...\n",
      "14 done...\n",
      "15 done...\n",
      "16 done...\n",
      "17 done...\n",
      "18 done...\n",
      "19 done...\n",
      "20 done...\n",
      "21 done...\n",
      "22 done...\n",
      "23 done...\n",
      "24 done...\n",
      "25 done...\n",
      "26 done...\n",
      "27 done...\n",
      "28 done...\n",
      "29 done...\n",
      "30 done...\n",
      "31 done...\n",
      "32 done...\n",
      "33 done...\n",
      "34 done...\n",
      "35 done...\n",
      "36 done...\n",
      "37 done...\n",
      "38 done...\n",
      "39 done...\n",
      "40 done...\n",
      "41 done...\n",
      "42 done...\n",
      "43 done...\n",
      "44 done...\n",
      "45 done...\n",
      "46 done...\n",
      "47 done...\n",
      "48 done...\n",
      "49 done...\n",
      "50 done...\n",
      "51 done...\n",
      "52 done...\n",
      "53 done...\n",
      "54 done...\n",
      "55 done...\n",
      "56 done...\n",
      "57 done...\n",
      "58 done...\n",
      "59 done...\n",
      "60 done...\n",
      "61 done...\n",
      "62 done...\n",
      "63 done...\n",
      "64 done...\n",
      "65 done...\n",
      "66 done...\n",
      "67 done...\n",
      "68 done...\n",
      "69 done...\n",
      "70 done...\n",
      "71 done...\n",
      "72 done...\n",
      "73 done...\n",
      "74 done...\n",
      "75 done...\n",
      "76 done...\n",
      "77 done...\n",
      "78 done...\n",
      "79 done...\n",
      "80 done...\n",
      "81 done...\n",
      "82 done...\n",
      "83 done...\n",
      "84 done...\n",
      "85 done...\n",
      "86 done...\n",
      "87 done...\n",
      "88 done...\n",
      "89 done...\n",
      "90 done...\n",
      "91 done...\n",
      "92 done...\n",
      "93 done...\n",
      "94 done...\n",
      "95 done...\n",
      "96 done...\n",
      "97 done...\n",
      "98 done...\n",
      "99 done...\n",
      "100 done...\n",
      "101 done...\n",
      "102 done...\n",
      "103 done...\n",
      "104 done...\n",
      "105 done...\n",
      "106 done...\n"
     ]
    },
    {
     "ename": "KeyboardInterrupt",
     "evalue": "",
     "output_type": "error",
     "traceback": [
      "\u001b[0;31m---------------------------------------------------------------------------\u001b[0m",
      "\u001b[0;31mKeyboardInterrupt\u001b[0m                         Traceback (most recent call last)",
      "\u001b[0;32m<ipython-input-127-b8292731ddbf>\u001b[0m in \u001b[0;36m<module>\u001b[0;34m()\u001b[0m\n\u001b[1;32m     14\u001b[0m \u001b[0;32mfor\u001b[0m \u001b[0mimage\u001b[0m \u001b[0;32min\u001b[0m \u001b[0mimages\u001b[0m\u001b[0;34m:\u001b[0m\u001b[0;34m\u001b[0m\u001b[0m\n\u001b[1;32m     15\u001b[0m     \u001b[0mpath\u001b[0m\u001b[0;34m,\u001b[0m \u001b[0mfile_name\u001b[0m \u001b[0;34m=\u001b[0m \u001b[0mos\u001b[0m\u001b[0;34m.\u001b[0m\u001b[0mpath\u001b[0m\u001b[0;34m.\u001b[0m\u001b[0msplit\u001b[0m\u001b[0;34m(\u001b[0m\u001b[0mimage\u001b[0m\u001b[0;34m)\u001b[0m\u001b[0;34m\u001b[0m\u001b[0m\n\u001b[0;32m---> 16\u001b[0;31m     \u001b[0mtext\u001b[0m \u001b[0;34m=\u001b[0m \u001b[0mdetect_text\u001b[0m\u001b[0;34m(\u001b[0m\u001b[0;34m'data/info/convert/'\u001b[0m \u001b[0;34m+\u001b[0m \u001b[0mfile_name\u001b[0m\u001b[0;34m)\u001b[0m\u001b[0;34m\u001b[0m\u001b[0m\n\u001b[0m\u001b[1;32m     17\u001b[0m     \u001b[0mtexts\u001b[0m \u001b[0;34m=\u001b[0m \u001b[0mchange_to_list\u001b[0m\u001b[0;34m(\u001b[0m\u001b[0mtext\u001b[0m\u001b[0;34m)\u001b[0m\u001b[0;34m\u001b[0m\u001b[0m\n\u001b[1;32m     18\u001b[0m \u001b[0;34m\u001b[0m\u001b[0m\n",
      "\u001b[0;32m<ipython-input-3-54758a2bd05e>\u001b[0m in \u001b[0;36mdetect_text\u001b[0;34m(path)\u001b[0m\n\u001b[1;32m     11\u001b[0m     \u001b[0mimage\u001b[0m \u001b[0;34m=\u001b[0m \u001b[0mvision\u001b[0m\u001b[0;34m.\u001b[0m\u001b[0mtypes\u001b[0m\u001b[0;34m.\u001b[0m\u001b[0mImage\u001b[0m\u001b[0;34m(\u001b[0m\u001b[0mcontent\u001b[0m\u001b[0;34m=\u001b[0m\u001b[0mcontent\u001b[0m\u001b[0;34m)\u001b[0m\u001b[0;34m\u001b[0m\u001b[0m\n\u001b[1;32m     12\u001b[0m \u001b[0;34m\u001b[0m\u001b[0m\n\u001b[0;32m---> 13\u001b[0;31m     \u001b[0mresponse\u001b[0m \u001b[0;34m=\u001b[0m \u001b[0mclient\u001b[0m\u001b[0;34m.\u001b[0m\u001b[0mtext_detection\u001b[0m\u001b[0;34m(\u001b[0m\u001b[0mimage\u001b[0m\u001b[0;34m=\u001b[0m\u001b[0mimage\u001b[0m\u001b[0;34m)\u001b[0m\u001b[0;34m\u001b[0m\u001b[0m\n\u001b[0m\u001b[1;32m     14\u001b[0m     \u001b[0mtexts\u001b[0m \u001b[0;34m=\u001b[0m \u001b[0mresponse\u001b[0m\u001b[0;34m.\u001b[0m\u001b[0mtext_annotations\u001b[0m\u001b[0;34m\u001b[0m\u001b[0m\n\u001b[1;32m     15\u001b[0m \u001b[0;34m\u001b[0m\u001b[0m\n",
      "\u001b[0;32m~/.pyenv/versions/anaconda3-5.2.0/lib/python3.6/site-packages/google/cloud/vision_helpers/decorators.py\u001b[0m in \u001b[0;36minner\u001b[0;34m(self, image, max_results, retry, timeout, **kwargs)\u001b[0m\n\u001b[1;32m     99\u001b[0m             \u001b[0mcopied_features\u001b[0m\u001b[0;34m[\u001b[0m\u001b[0;34m\"max_results\"\u001b[0m\u001b[0;34m]\u001b[0m \u001b[0;34m=\u001b[0m \u001b[0mmax_results\u001b[0m\u001b[0;34m\u001b[0m\u001b[0m\n\u001b[1;32m    100\u001b[0m         \u001b[0mrequest\u001b[0m \u001b[0;34m=\u001b[0m \u001b[0mdict\u001b[0m\u001b[0;34m(\u001b[0m\u001b[0mimage\u001b[0m\u001b[0;34m=\u001b[0m\u001b[0mimage\u001b[0m\u001b[0;34m,\u001b[0m \u001b[0mfeatures\u001b[0m\u001b[0;34m=\u001b[0m\u001b[0;34m[\u001b[0m\u001b[0mcopied_features\u001b[0m\u001b[0;34m]\u001b[0m\u001b[0;34m,\u001b[0m \u001b[0;34m**\u001b[0m\u001b[0mkwargs\u001b[0m\u001b[0;34m)\u001b[0m\u001b[0;34m\u001b[0m\u001b[0m\n\u001b[0;32m--> 101\u001b[0;31m         \u001b[0mresponse\u001b[0m \u001b[0;34m=\u001b[0m \u001b[0mself\u001b[0m\u001b[0;34m.\u001b[0m\u001b[0mannotate_image\u001b[0m\u001b[0;34m(\u001b[0m\u001b[0mrequest\u001b[0m\u001b[0;34m,\u001b[0m \u001b[0mretry\u001b[0m\u001b[0;34m=\u001b[0m\u001b[0mretry\u001b[0m\u001b[0;34m,\u001b[0m \u001b[0mtimeout\u001b[0m\u001b[0;34m=\u001b[0m\u001b[0mtimeout\u001b[0m\u001b[0;34m)\u001b[0m\u001b[0;34m\u001b[0m\u001b[0m\n\u001b[0m\u001b[1;32m    102\u001b[0m         \u001b[0;32mreturn\u001b[0m \u001b[0mresponse\u001b[0m\u001b[0;34m\u001b[0m\u001b[0m\n\u001b[1;32m    103\u001b[0m \u001b[0;34m\u001b[0m\u001b[0m\n",
      "\u001b[0;32m~/.pyenv/versions/anaconda3-5.2.0/lib/python3.6/site-packages/google/cloud/vision_helpers/__init__.py\u001b[0m in \u001b[0;36mannotate_image\u001b[0;34m(self, request, retry, timeout)\u001b[0m\n\u001b[1;32m     70\u001b[0m         \u001b[0;31m# of them.\u001b[0m\u001b[0;34m\u001b[0m\u001b[0;34m\u001b[0m\u001b[0m\n\u001b[1;32m     71\u001b[0m         \u001b[0mprotobuf\u001b[0m\u001b[0;34m.\u001b[0m\u001b[0msetdefault\u001b[0m\u001b[0;34m(\u001b[0m\u001b[0mrequest\u001b[0m\u001b[0;34m,\u001b[0m \u001b[0;34m\"features\"\u001b[0m\u001b[0;34m,\u001b[0m \u001b[0mself\u001b[0m\u001b[0;34m.\u001b[0m\u001b[0m_get_all_features\u001b[0m\u001b[0;34m(\u001b[0m\u001b[0;34m)\u001b[0m\u001b[0;34m)\u001b[0m\u001b[0;34m\u001b[0m\u001b[0m\n\u001b[0;32m---> 72\u001b[0;31m         \u001b[0mr\u001b[0m \u001b[0;34m=\u001b[0m \u001b[0mself\u001b[0m\u001b[0;34m.\u001b[0m\u001b[0mbatch_annotate_images\u001b[0m\u001b[0;34m(\u001b[0m\u001b[0;34m[\u001b[0m\u001b[0mrequest\u001b[0m\u001b[0;34m]\u001b[0m\u001b[0;34m,\u001b[0m \u001b[0mretry\u001b[0m\u001b[0;34m=\u001b[0m\u001b[0mretry\u001b[0m\u001b[0;34m,\u001b[0m \u001b[0mtimeout\u001b[0m\u001b[0;34m=\u001b[0m\u001b[0mtimeout\u001b[0m\u001b[0;34m)\u001b[0m\u001b[0;34m\u001b[0m\u001b[0m\n\u001b[0m\u001b[1;32m     73\u001b[0m         \u001b[0;32mreturn\u001b[0m \u001b[0mr\u001b[0m\u001b[0;34m.\u001b[0m\u001b[0mresponses\u001b[0m\u001b[0;34m[\u001b[0m\u001b[0;36m0\u001b[0m\u001b[0;34m]\u001b[0m\u001b[0;34m\u001b[0m\u001b[0m\n\u001b[1;32m     74\u001b[0m \u001b[0;34m\u001b[0m\u001b[0m\n",
      "\u001b[0;32m~/.pyenv/versions/anaconda3-5.2.0/lib/python3.6/site-packages/google/cloud/vision_v1/gapic/image_annotator_client.py\u001b[0m in \u001b[0;36mbatch_annotate_images\u001b[0;34m(self, requests, parent, retry, timeout, metadata)\u001b[0m\n\u001b[1;32m    272\u001b[0m \u001b[0;34m\u001b[0m\u001b[0m\n\u001b[1;32m    273\u001b[0m         return self._inner_api_calls[\"batch_annotate_images\"](\n\u001b[0;32m--> 274\u001b[0;31m             \u001b[0mrequest\u001b[0m\u001b[0;34m,\u001b[0m \u001b[0mretry\u001b[0m\u001b[0;34m=\u001b[0m\u001b[0mretry\u001b[0m\u001b[0;34m,\u001b[0m \u001b[0mtimeout\u001b[0m\u001b[0;34m=\u001b[0m\u001b[0mtimeout\u001b[0m\u001b[0;34m,\u001b[0m \u001b[0mmetadata\u001b[0m\u001b[0;34m=\u001b[0m\u001b[0mmetadata\u001b[0m\u001b[0;34m\u001b[0m\u001b[0m\n\u001b[0m\u001b[1;32m    275\u001b[0m         )\n\u001b[1;32m    276\u001b[0m \u001b[0;34m\u001b[0m\u001b[0m\n",
      "\u001b[0;32m~/.pyenv/versions/anaconda3-5.2.0/lib/python3.6/site-packages/google/api_core/gapic_v1/method.py\u001b[0m in \u001b[0;36m__call__\u001b[0;34m(self, *args, **kwargs)\u001b[0m\n\u001b[1;32m    143\u001b[0m             \u001b[0mkwargs\u001b[0m\u001b[0;34m[\u001b[0m\u001b[0;34m\"metadata\"\u001b[0m\u001b[0;34m]\u001b[0m \u001b[0;34m=\u001b[0m \u001b[0mmetadata\u001b[0m\u001b[0;34m\u001b[0m\u001b[0m\n\u001b[1;32m    144\u001b[0m \u001b[0;34m\u001b[0m\u001b[0m\n\u001b[0;32m--> 145\u001b[0;31m         \u001b[0;32mreturn\u001b[0m \u001b[0mwrapped_func\u001b[0m\u001b[0;34m(\u001b[0m\u001b[0;34m*\u001b[0m\u001b[0margs\u001b[0m\u001b[0;34m,\u001b[0m \u001b[0;34m**\u001b[0m\u001b[0mkwargs\u001b[0m\u001b[0;34m)\u001b[0m\u001b[0;34m\u001b[0m\u001b[0m\n\u001b[0m\u001b[1;32m    146\u001b[0m \u001b[0;34m\u001b[0m\u001b[0m\n\u001b[1;32m    147\u001b[0m \u001b[0;34m\u001b[0m\u001b[0m\n",
      "\u001b[0;32m~/.pyenv/versions/anaconda3-5.2.0/lib/python3.6/site-packages/google/api_core/grpc_helpers.py\u001b[0m in \u001b[0;36merror_remapped_callable\u001b[0;34m(*args, **kwargs)\u001b[0m\n\u001b[1;32m     55\u001b[0m     \u001b[0;32mdef\u001b[0m \u001b[0merror_remapped_callable\u001b[0m\u001b[0;34m(\u001b[0m\u001b[0;34m*\u001b[0m\u001b[0margs\u001b[0m\u001b[0;34m,\u001b[0m \u001b[0;34m**\u001b[0m\u001b[0mkwargs\u001b[0m\u001b[0;34m)\u001b[0m\u001b[0;34m:\u001b[0m\u001b[0;34m\u001b[0m\u001b[0m\n\u001b[1;32m     56\u001b[0m         \u001b[0;32mtry\u001b[0m\u001b[0;34m:\u001b[0m\u001b[0;34m\u001b[0m\u001b[0m\n\u001b[0;32m---> 57\u001b[0;31m             \u001b[0;32mreturn\u001b[0m \u001b[0mcallable_\u001b[0m\u001b[0;34m(\u001b[0m\u001b[0;34m*\u001b[0m\u001b[0margs\u001b[0m\u001b[0;34m,\u001b[0m \u001b[0;34m**\u001b[0m\u001b[0mkwargs\u001b[0m\u001b[0;34m)\u001b[0m\u001b[0;34m\u001b[0m\u001b[0m\n\u001b[0m\u001b[1;32m     58\u001b[0m         \u001b[0;32mexcept\u001b[0m \u001b[0mgrpc\u001b[0m\u001b[0;34m.\u001b[0m\u001b[0mRpcError\u001b[0m \u001b[0;32mas\u001b[0m \u001b[0mexc\u001b[0m\u001b[0;34m:\u001b[0m\u001b[0;34m\u001b[0m\u001b[0m\n\u001b[1;32m     59\u001b[0m             \u001b[0msix\u001b[0m\u001b[0;34m.\u001b[0m\u001b[0mraise_from\u001b[0m\u001b[0;34m(\u001b[0m\u001b[0mexceptions\u001b[0m\u001b[0;34m.\u001b[0m\u001b[0mfrom_grpc_error\u001b[0m\u001b[0;34m(\u001b[0m\u001b[0mexc\u001b[0m\u001b[0;34m)\u001b[0m\u001b[0;34m,\u001b[0m \u001b[0mexc\u001b[0m\u001b[0;34m)\u001b[0m\u001b[0;34m\u001b[0m\u001b[0m\n",
      "\u001b[0;32m~/.pyenv/versions/anaconda3-5.2.0/lib/python3.6/site-packages/grpc/_channel.py\u001b[0m in \u001b[0;36m__call__\u001b[0;34m(self, request, timeout, metadata, credentials, wait_for_ready, compression)\u001b[0m\n\u001b[1;32m    823\u001b[0m                  compression=None):\n\u001b[1;32m    824\u001b[0m         state, call, = self._blocking(request, timeout, metadata, credentials,\n\u001b[0;32m--> 825\u001b[0;31m                                       wait_for_ready, compression)\n\u001b[0m\u001b[1;32m    826\u001b[0m         \u001b[0;32mreturn\u001b[0m \u001b[0m_end_unary_response_blocking\u001b[0m\u001b[0;34m(\u001b[0m\u001b[0mstate\u001b[0m\u001b[0;34m,\u001b[0m \u001b[0mcall\u001b[0m\u001b[0;34m,\u001b[0m \u001b[0;32mFalse\u001b[0m\u001b[0;34m,\u001b[0m \u001b[0;32mNone\u001b[0m\u001b[0;34m)\u001b[0m\u001b[0;34m\u001b[0m\u001b[0m\n\u001b[1;32m    827\u001b[0m \u001b[0;34m\u001b[0m\u001b[0m\n",
      "\u001b[0;32m~/.pyenv/versions/anaconda3-5.2.0/lib/python3.6/site-packages/grpc/_channel.py\u001b[0m in \u001b[0;36m_blocking\u001b[0;34m(self, request, timeout, metadata, credentials, wait_for_ready, compression)\u001b[0m\n\u001b[1;32m    811\u001b[0m                     \u001b[0;32mNone\u001b[0m\u001b[0;34m,\u001b[0m\u001b[0;34m\u001b[0m\u001b[0m\n\u001b[1;32m    812\u001b[0m                 ),), self._context)\n\u001b[0;32m--> 813\u001b[0;31m             \u001b[0mevent\u001b[0m \u001b[0;34m=\u001b[0m \u001b[0mcall\u001b[0m\u001b[0;34m.\u001b[0m\u001b[0mnext_event\u001b[0m\u001b[0;34m(\u001b[0m\u001b[0;34m)\u001b[0m\u001b[0;34m\u001b[0m\u001b[0m\n\u001b[0m\u001b[1;32m    814\u001b[0m             \u001b[0m_handle_event\u001b[0m\u001b[0;34m(\u001b[0m\u001b[0mevent\u001b[0m\u001b[0;34m,\u001b[0m \u001b[0mstate\u001b[0m\u001b[0;34m,\u001b[0m \u001b[0mself\u001b[0m\u001b[0;34m.\u001b[0m\u001b[0m_response_deserializer\u001b[0m\u001b[0;34m)\u001b[0m\u001b[0;34m\u001b[0m\u001b[0m\n\u001b[1;32m    815\u001b[0m             \u001b[0;32mreturn\u001b[0m \u001b[0mstate\u001b[0m\u001b[0;34m,\u001b[0m \u001b[0mcall\u001b[0m\u001b[0;34m\u001b[0m\u001b[0m\n",
      "\u001b[0;32msrc/python/grpcio/grpc/_cython/_cygrpc/channel.pyx.pxi\u001b[0m in \u001b[0;36mgrpc._cython.cygrpc.SegregatedCall.next_event\u001b[0;34m()\u001b[0m\n",
      "\u001b[0;32msrc/python/grpcio/grpc/_cython/_cygrpc/channel.pyx.pxi\u001b[0m in \u001b[0;36mgrpc._cython.cygrpc._next_call_event\u001b[0;34m()\u001b[0m\n",
      "\u001b[0;32msrc/python/grpcio/grpc/_cython/_cygrpc/channel.pyx.pxi\u001b[0m in \u001b[0;36mgrpc._cython.cygrpc._next_call_event\u001b[0;34m()\u001b[0m\n",
      "\u001b[0;32msrc/python/grpcio/grpc/_cython/_cygrpc/completion_queue.pyx.pxi\u001b[0m in \u001b[0;36mgrpc._cython.cygrpc._latent_event\u001b[0;34m()\u001b[0m\n",
      "\u001b[0;32msrc/python/grpcio/grpc/_cython/_cygrpc/completion_queue.pyx.pxi\u001b[0m in \u001b[0;36mgrpc._cython.cygrpc._next\u001b[0;34m()\u001b[0m\n",
      "\u001b[0;31mKeyboardInterrupt\u001b[0m: "
     ]
    }
   ],
   "source": [
    "start_time = datetime.now()\n",
    "\n",
    "name = list()\n",
    "power = list()\n",
    "kill = list()\n",
    "dead = list()\n",
    "support = list()\n",
    "t1 = list()\n",
    "t2 = list()\n",
    "t3 = list()\n",
    "t4 = list()\n",
    "t5 = list()\n",
    "i = 0\n",
    "for image in images:\n",
    "    path, file_name = os.path.split(image)\n",
    "    text = detect_text('data/info/convert/' + file_name)\n",
    "    texts = change_to_list(text)\n",
    "    \n",
    "    name.append(texts[0])\n",
    "    p = texts[1]\n",
    "    pp = p[p.index(':')+1:-1]\n",
    "    power.append(change_to_number(pp))\n",
    "\n",
    "    k = texts[2]\n",
    "    kk = k[k.index(':')+1:-1]\n",
    "    kill.append(change_to_number(kk))\n",
    "    t1.append(change_to_number(texts[3]))\n",
    "    t2.append(change_to_number(texts[4]))\n",
    "    t3.append(change_to_number(texts[5]))\n",
    "    t4.append(change_to_number(texts[6]))\n",
    "    t5.append(change_to_number(texts[7]))\n",
    "    dead.append(change_to_number(texts[texts.index('전사')+1]))\n",
    "    support.append(change_to_number(texts[texts.index('원조')+1]))\n",
    "    \n",
    "    print(i, 'done...')\n",
    "    i += 1\n",
    "    \n",
    "end_time = datetime.now()\n",
    "\n",
    "print (end_time - start_time)\n",
    "\n",
    "df = pd.DataFrame({'name': name,\n",
    "                   'power':power,\n",
    "                   'kill':kill,\n",
    "                   'T1_kill':t1,\n",
    "                   'T2_kill':t2,\n",
    "                   'T3_kill':t3,\n",
    "                   'T4_kill':t4,\n",
    "                   'T5_kill':t5,\n",
    "                   'dead':dead,\n",
    "                   'support':support})\n",
    "\n",
    "df.to_excel('data/info/result6.xlsx')"
   ]
  },
  {
   "cell_type": "code",
   "execution_count": 120,
   "metadata": {},
   "outputs": [
    {
     "name": "stdout",
     "output_type": "stream",
     "text": [
      "0:00:00.243485\n"
     ]
    }
   ],
   "source": [
    "#crop & convert\n",
    "start_time = datetime.now()\n",
    "\n",
    "initial = Image.open(images[39])\n",
    "width = initial.size[0]\n",
    "height = initial.size[1]\n",
    "\n",
    "path, file_name = os.path.split(images[39])\n",
    "\n",
    "#name\n",
    "crop_name = initial.crop((width*0.295, height*0.15, width*0.8, height*0.2))\n",
    "\n",
    "#kill\n",
    "crop_kill = initial.crop((width*0.56, height*0.28, width*0.72, height*0.44))\n",
    "img_white = Image.new('RGB', (57, 231), (255, 255, 255, 255))\n",
    "crop_kill.paste(img_white, (0, 0, 57, 231))\n",
    "crop_kill.paste(img_white, (243, 0, 300, 231))\n",
    "\n",
    "img = np.array(crop_kill) \n",
    "img = img[:, :, ::-1].copy() \n",
    "\n",
    "gray = cv2.cvtColor(img, cv2.COLOR_BGR2GRAY)\n",
    "structuringElement = cv2.getStructuringElement(cv2.MORPH_RECT, (3, 3))\n",
    "\n",
    "imgTopHat = cv2.morphologyEx(gray, cv2.MORPH_TOPHAT, structuringElement)\n",
    "imgBlackHat = cv2.morphologyEx(gray, cv2.MORPH_BLACKHAT, structuringElement)\n",
    "\n",
    "imgGrayscalePlusTopHat = cv2.add(gray, imgTopHat)\n",
    "gray = cv2.subtract(imgGrayscalePlusTopHat, imgBlackHat)\n",
    "\n",
    "img_blurred = cv2.GaussianBlur(gray, ksize=(5, 5), sigmaX=0)\n",
    "\n",
    "ret, img_thresh = cv2.threshold(\n",
    "img_blurred, \n",
    "140,\n",
    "255,\n",
    "cv2.THRESH_BINARY_INV\n",
    ")\n",
    "crop_kill = Image.fromarray(img_thresh)\n",
    "\n",
    "crop_ds = initial.crop((width*0.20, height*0.23, width*0.8, height*0.98))\n",
    "\n",
    "nw, nh = crop_name.size\n",
    "kw, kh = crop_kill.size\n",
    "dsw, dsh = crop_ds.size\n",
    "\n",
    "crop_name.save('data/info/croped/name/' + file_name)\n",
    "crop_kill.save('data/info/croped/kill/' + file_name)\n",
    "crop_ds.save('data/info/croped/ds/' + file_name)\n",
    "\n",
    "merge = Image.new('RGB', (bw, nh+kh+dsh),(0, 0, 0))\n",
    "\n",
    "merge.paste(crop_name, (0, 0, nw, nh))\n",
    "merge.paste(crop_kill, (0, nh, kw, nh+kh))\n",
    "merge.paste(crop_ds, (0, nh+kh, dsw, th+kh+dsh))\n",
    "\n",
    "merge.save('data/info/convert/' + file_name)\n",
    "\n",
    "end_time = datetime.now()\n",
    "\n",
    "print (end_time - start_time)"
   ]
  },
  {
   "cell_type": "code",
   "execution_count": 123,
   "metadata": {},
   "outputs": [
    {
     "name": "stdout",
     "output_type": "stream",
     "text": [
      "0 done...\n",
      "0:00:02.414502\n"
     ]
    }
   ],
   "source": [
    "start_time = datetime.now()\n",
    "\n",
    "name = list()\n",
    "power = list()\n",
    "kill = list()\n",
    "dead = list()\n",
    "support = list()\n",
    "t1 = list()\n",
    "t2 = list()\n",
    "t3 = list()\n",
    "t4 = list()\n",
    "t5 = list()\n",
    "i = 0\n",
    "# for image in images:\n",
    "path, file_name = os.path.split(images[39])\n",
    "text = detect_text('data/info/convert/' + file_name)\n",
    "texts = change_to_list(text)\n",
    "\n",
    "s[s.index(':')+1:-1]\n",
    "name.append(texts[0])\n",
    "\n",
    "p = texts[1]\n",
    "pp = p[p.index(':')+1:-1]\n",
    "power.append(change_to_number(pp))\n",
    "\n",
    "k = texts[2]\n",
    "kk = k[k.index(':')+1:-1]\n",
    "kill.append(change_to_number(kk))\n",
    "t1.append(change_to_number(texts[3]))\n",
    "t2.append(change_to_number(texts[4]))\n",
    "t3.append(change_to_number(texts[5]))\n",
    "t4.append(change_to_number(texts[6]))\n",
    "t5.append(change_to_number(texts[7]))\n",
    "dead.append(change_to_number(texts[texts.index('전사')+1]))\n",
    "support.append(change_to_number(texts[texts.index('원조')+1]))\n",
    "\n",
    "print(i, 'done...')\n",
    "i += 1\n",
    "    \n",
    "end_time = datetime.now()\n",
    "\n",
    "print (end_time - start_time)"
   ]
  },
  {
   "cell_type": "code",
   "execution_count": 124,
   "metadata": {},
   "outputs": [
    {
     "name": "stdout",
     "output_type": "stream",
     "text": [
      "타 로\n",
      "5421077\n",
      "1665902\n",
      "5187582\n",
      "3757254\n",
      "2169900\n",
      "5280191\n",
      "264098\n",
      "1193265\n",
      "307945382\n"
     ]
    }
   ],
   "source": [
    "# print(texts[0])\n",
    "# print(texts[1])\n",
    "# s = texts[2]\n",
    "# print(texts[2])\n",
    "# print(texts[3])\n",
    "# print(texts[4])\n",
    "# print(texts[5])\n",
    "# print(texts[6])\n",
    "# print(texts[7])\n",
    "# print(texts[texts.index('전사')+1])\n",
    "# print(texts[texts.index('원조')+1])\n",
    "print(name[0])\n",
    "print(power[0])\n",
    "print(kill[0])\n",
    "print(t1[0])\n",
    "print(t2[0])\n",
    "print(t3[0])\n",
    "print(t4[0])\n",
    "print(t5[0])\n",
    "print(dead[0])\n",
    "print(support[0])\n"
   ]
  },
  {
   "cell_type": "code",
   "execution_count": 78,
   "metadata": {},
   "outputs": [
    {
     "name": "stdout",
     "output_type": "stream",
     "text": [
      "54\n",
      "83\n",
      "39\n"
     ]
    }
   ],
   "source": [
    "print(images.index('data/info/original/Screenshot_20200727-204403_Rise of Kingdoms.jpg'))\n",
    "print(images.index('data/info/original/Screenshot_20200727-203452_Rise of Kingdoms.jpg'))\n",
    "print(images.index('data/info/original/Screenshot_20200727-203422_Rise of Kingdoms.jpg'))\n",
    "#126"
   ]
  },
  {
   "cell_type": "code",
   "execution_count": 79,
   "metadata": {},
   "outputs": [
    {
     "name": "stdout",
     "output_type": "stream",
     "text": [
      "['탱글경리', '전투력: 34,296,966', '*1: 3,495,867', '268,690', '648,927', '1,047,416', '1,096,569', '159,407', '전투 통계', '처치 정보: (2019/10/23 후부터 계산 시작)', '역대 최고 전력', '268,690', 'O 648,92734,301,742', 'O 1,047,416', 'O 1,096,569', '승리', '14,373', '159,407', '패배', '133', '전사', '917,367', '정찰 횟수', '1,810', '자원 통계', '채집한 자원', '4,763,217,757', '원조', '349,811,063', '연맹 지원 횟수', '11,650']\n"
     ]
    }
   ],
   "source": [
    "path, file_name = os.path.split(images[54])\n",
    "text = detect_text('data/info/convert/' + file_name)\n",
    "texts = change_to_list(text)\n",
    "print(texts)"
   ]
  },
  {
   "cell_type": "code",
   "execution_count": 92,
   "metadata": {},
   "outputs": [
    {
     "data": {
      "text/plain": [
       "'*/2: 38,586,811'"
      ]
     },
     "execution_count": 92,
     "metadata": {},
     "output_type": "execute_result"
    }
   ],
   "source": [
    "s"
   ]
  },
  {
   "cell_type": "code",
   "execution_count": 112,
   "metadata": {},
   "outputs": [],
   "source": [
    "ss = s[s.index(':')+1:-1]"
   ]
  },
  {
   "cell_type": "code",
   "execution_count": 113,
   "metadata": {},
   "outputs": [
    {
     "data": {
      "text/plain": [
       "' 38,586,81'"
      ]
     },
     "execution_count": 113,
     "metadata": {},
     "output_type": "execute_result"
    }
   ],
   "source": [
    "ss"
   ]
  },
  {
   "cell_type": "code",
   "execution_count": null,
   "metadata": {},
   "outputs": [],
   "source": []
  }
 ],
 "metadata": {
  "kernelspec": {
   "display_name": "Python 3",
   "language": "python",
   "name": "python3"
  },
  "language_info": {
   "codemirror_mode": {
    "name": "ipython",
    "version": 3
   },
   "file_extension": ".py",
   "mimetype": "text/x-python",
   "name": "python",
   "nbconvert_exporter": "python",
   "pygments_lexer": "ipython3",
   "version": "3.7.6"
  }
 },
 "nbformat": 4,
 "nbformat_minor": 2
}
